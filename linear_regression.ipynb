{
 "cells": [
  {
   "cell_type": "code",
   "execution_count": 170,
   "id": "0fe9ceb3-4917-47ae-933b-216bad7c2ae8",
   "metadata": {},
   "outputs": [],
   "source": [
    "import numpy as np\n",
    "import matplotlib.pyplot as plt\n",
    "import pandas as pd\n",
    "from sklearn.model_selection import train_test_split\n",
    "from sklearn.metrics import  r2_score"
   ]
  },
  {
   "cell_type": "code",
   "execution_count": 171,
   "id": "039f5700-fec0-41ea-addb-c8f2bdba866f",
   "metadata": {},
   "outputs": [],
   "source": [
    "# load the dataset\n",
    "df = pd.read_csv('/Users/berekettesfaye/Desktop/corsera/student_scores.csv')\n"
   ]
  },
  {
   "cell_type": "code",
   "execution_count": 172,
   "id": "06518a41-0421-4815-b3be-5cd1a15b6f38",
   "metadata": {},
   "outputs": [
    {
     "name": "stdout",
     "output_type": "stream",
     "text": [
      "[2.7 3.3 5.1 3.8 1.5 3.2 4.5 8.9 8.5 3.5 2.7 1.9 4.8 6.1 7.8 5.5 7.7 1.1\n",
      " 7.4 9.2]\n",
      "[25 42 47 35 20 27 41 95 75 30 30 24 54 67 86 60 85 17 69 88]\n",
      "[8.3 2.5 2.5 6.9 5.9]\n",
      "[81 30 21 76 62]\n"
     ]
    }
   ],
   "source": [
    "#SPLITING THE TRIANING AND TESTING SETS\n",
    "X = df.iloc[:,0].values  # select the feature hours for training 0-20 index\n",
    "y = df.iloc[:,1].values # select the select the last five rows for test\n",
    "\n",
    "#Split the data into training and testing sets\n",
    "X_train, X_test, y_train, y_test = train_test_split(X, y, test_size=0.2, random_state=42)\n",
    "\n",
    "print(X_train)\n",
    "print(y_train)\n",
    "print(X_test)\n",
    "print(y_test)"
   ]
  },
  {
   "cell_type": "code",
   "execution_count": 175,
   "id": "3904f2b9-6b2d-4bd1-9c1c-0516bf082c04",
   "metadata": {},
   "outputs": [
    {
     "name": "stdout",
     "output_type": "stream",
     "text": [
      "[2.7 3.3 5.1 3.8 1.5 3.2 4.5 8.9 8.5 3.5 2.7 1.9 4.8 6.1 7.8 5.5 7.7 1.1\n",
      " 7.4 9.2]\n",
      "[8.3 2.5 2.5 6.9 5.9]\n"
     ]
    }
   ],
   "source": [
    "print(X_train)\n",
    "print(X_test)"
   ]
  },
  {
   "cell_type": "code",
   "execution_count": 176,
   "id": "14f72304-2c87-4339-9126-d65f9cdd784e",
   "metadata": {},
   "outputs": [
    {
     "data": {
      "image/png": "[encoded data removed]",
      "text/plain": [
       "<Figure size 640x480 with 1 Axes>"
      ]
     },
     "metadata": {},
     "output_type": "display_data"
    }
   ],
   "source": [
    "# Creating a scatter plot of the data. To change the markers to red \"x\",\n",
    "# i used the 'marker' and 'c' parameters\n",
    "plt.scatter(X_train, y_train, marker='x', c='r') \n",
    "\n",
    "# Set the title\n",
    "plt.title(\"grade vs. hours \")\n",
    "# Set the y-axis label\n",
    "plt.ylabel('grades')\n",
    "# Set the x-axis label\n",
    "plt.xlabel('hours')\n",
    "plt.show()"
   ]
  },
  {
   "cell_type": "code",
   "execution_count": 177,
   "id": "fc1daa5a-f554-4cad-8ead-23ad5182ea6c",
   "metadata": {},
   "outputs": [],
   "source": [
    "# UNQ_C1\n",
    "# GRADED FUNCTION: compute_cost\n",
    "\n",
    "def compute_cost(x, y, w, b): \n",
    "    \"\"\"\n",
    "    Computes the cost function for linear regression.\n",
    "    \n",
    "    Args:\n",
    "        x (ndarray): Shape (m,) Input to the model (Population of cities) \n",
    "        y (ndarray): Shape (m,) Label (Actual profits for the cities)\n",
    "        w, b (scalar): Parameters of the model\n",
    "    \n",
    "    Returns\n",
    "        total_cost (float): The cost of using w,b as the parameters for linear regression\n",
    "               to fit the data points in x and y\n",
    "    \"\"\"\n",
    "    # number of training examples\n",
    "    m = x.shape[0] \n",
    "    \n",
    "    # this will be returned as the total cost\n",
    "    total_cost = 0\n",
    "    \n",
    "    \n",
    "    cost_sum=0\n",
    "    for i in range(m):  # calculate the cost function for linear regression  𝐽(𝑤,𝑏)\n",
    "        f_wb_i = w * x[i] + b                          \n",
    "        cost_i = (f_wb_i - y[i]) ** 2\n",
    "        cost_sum= cost_sum + cost_i\n",
    "    total_cost= (1/(2*m)) * cost_sum\n",
    "    \n",
    "\n",
    "\n",
    "    return total_cost"
   ]
  },
  {
   "cell_type": "code",
   "execution_count": 178,
   "id": "f683decf-2e74-49d2-b8e0-c7fc4fd8f384",
   "metadata": {},
   "outputs": [],
   "source": [
    "# this function will compute the gradient \n",
    "def compute_gradient(x, y, w, b): \n",
    "    \"\"\"\n",
    "    Computes the gradient for linear regression \n",
    "    Args:\n",
    "      x (ndarray): Shape (m,) Input to the model (Population of cities) \n",
    "      y (ndarray): Shape (m,) Label (Actual profits for the cities)\n",
    "      w, b (scalar): Parameters of the model  \n",
    "    Returns\n",
    "      dj_dw (scalar): The gradient of the cost w.r.t. the parameters w\n",
    "      dj_db (scalar): The gradient of the cost w.r.t. the parameter b     \n",
    "     \"\"\"\n",
    "    \n",
    "    # Number of training examples\n",
    "    m = x.shape[0]\n",
    "    \n",
    "    # this will be returned after a we conput the gradiant decent to find the write parameter w\n",
    "    dj_dw = 0\n",
    "    dj_db = 0\n",
    "    \n",
    "    \n",
    "    sum_dj_dw = 0\n",
    "    sum_dj_db = 0\n",
    "    for i in range(m):\n",
    "        f_wb_i=w*x[i] +b\n",
    "\n",
    "        # partial derivative of cost function w.r.t w\n",
    "        dj_dw_i= (f_wb_i - y[i]) * x[i]\n",
    "\n",
    "        # partial derivative of the cost function w.r.t d\n",
    "        dj_db_i = (f_wb_i - y[i])\n",
    "        sum_dj_dw = sum_dj_dw + dj_dw_i\n",
    "        sum_dj_db = sum_dj_db + dj_db_i\n",
    "    dj_dw = sum_dj_dw / m\n",
    "    dj_db = sum_dj_db / m\n",
    "  \n",
    "        \n",
    "    return dj_dw, dj_db"
   ]
  },
  {
   "cell_type": "code",
   "execution_count": 179,
   "id": "f46fe25a-293c-42ce-98a2-9c2750ffb475",
   "metadata": {},
   "outputs": [],
   "source": [
    "def gradient_descent(x, y, w_in, b_in, cost_function, gradient_function, alpha, num_iters): \n",
    "    \"\"\"\n",
    "    Performs batch gradient descent to learn theta. Updates theta by taking \n",
    "    num_iters gradient steps with learning rate alpha\n",
    "    \n",
    "    Args:\n",
    "      x :    (ndarray): Shape (m,)\n",
    "      y :    (ndarray): Shape (m,)\n",
    "      w_in, b_in : (scalar) Initial values of parameters of the model\n",
    "      cost_function: function to compute cost\n",
    "      gradient_function: function to compute the gradient\n",
    "      alpha : (float) Learning rate\n",
    "      num_iters : (int) number of iterations to run gradient descent\n",
    "    Returns\n",
    "      w : (ndarray): Shape (1,) Updated values of parameters of the model after\n",
    "          running gradient descent\n",
    "      b : (scalar)                Updated value of parameter of the model after\n",
    "          running gradient descent\n",
    "    \"\"\"\n",
    "    \n",
    "    # number of training examples\n",
    "    m = len(x)\n",
    "    \n",
    "    w = w_in\n",
    "    b = b_in\n",
    " \n",
    "    for i in range(num_iters):\n",
    "\n",
    "        # Calculate the gradient and update the parameters\n",
    "        dj_dw, dj_db = gradient_function(x, y, w, b )  \n",
    "\n",
    "        # Update Parameters using w, b, alpha and gradient\n",
    "        w = w - alpha * dj_dw               \n",
    "        b = b - alpha * dj_db                  \n",
    "        \n",
    "        \n",
    "    return w,b #return w and J"
   ]
  },
  {
   "cell_type": "code",
   "execution_count": 180,
   "id": "0163a085-155b-48fc-9f00-4b86c5e57d01",
   "metadata": {},
   "outputs": [
    {
     "name": "stdout",
     "output_type": "stream",
     "text": [
      "w,b found by gradient descent: 9.682078157807064 2.8268923331811915\n"
     ]
    }
   ],
   "source": [
    "# initialize fitting parameters. Recall that the shape of w is (n,)\n",
    "initial_w = 0.\n",
    "initial_b = 0.\n",
    "\n",
    "# some gradient descent settings\n",
    "iterations = 1500 \n",
    "alpha = 0.06 # this is the learning rate \n",
    "\n",
    "w,b = gradient_descent(X_train,y_train, initial_w, initial_b, \n",
    "                     compute_cost, compute_gradient, alpha, iterations)\n",
    "print(\"w,b found by gradient descent:\",w, b)"
   ]
  },
  {
   "cell_type": "code",
   "execution_count": 181,
   "id": "af4bbaf0-2820-4af3-b64c-a21abdd2b669",
   "metadata": {},
   "outputs": [],
   "source": [
    "m = X_train.shape[0]\n",
    "predicted = np.zeros(m)\n",
    "\n",
    "for i in range(m):\n",
    "    predicted[i] = w * X_train[i] + b"
   ]
  },
  {
   "cell_type": "code",
   "execution_count": 182,
   "id": "c1bd7542-63a1-473e-80d7-6e6458302eac",
   "metadata": {},
   "outputs": [
    {
     "data": {
      "image/png": "[encoded data removed]",
      "text/plain": [
       "<Figure size 640x480 with 1 Axes>"
      ]
     },
     "metadata": {},
     "output_type": "display_data"
    }
   ],
   "source": [
    "# plot the liner fit\n",
    "plt.plot(X_train, predicted, c= 'r')\n",
    "\n",
    "# create a scatter plot for the data\n",
    "plt.scatter(X_train, y_train, marker = 'x', c = 'r')\n",
    "\n",
    "# Set the title\n",
    "plt.title(\"grade vs. hours \")\n",
    "\n",
    "# Set the y-axis label\n",
    "plt.ylabel('grades')\n",
    "# Set the x-axis label\n",
    "plt.xlabel('hours')\n",
    "plt.show()"
   ]
  },
  {
   "cell_type": "code",
   "execution_count": 183,
   "id": "abafe0cd-bbca-4072-8d43-754f670fa8a1",
   "metadata": {},
   "outputs": [],
   "source": [
    "# now i will test the model with a data that it has never seen\n",
    "m_pre = X_test.shape[0]\n",
    "predicted = np.zeros(m_pre)\n",
    "\n",
    "for i in range(m_pre):\n",
    "    predicted[i] = w * X_test[i] + b\n"
   ]
  },
  {
   "cell_type": "code",
   "execution_count": 184,
   "id": "36549638-75e4-435c-a82d-ea224d30b1c0",
   "metadata": {},
   "outputs": [
    {
     "name": "stdout",
     "output_type": "stream",
     "text": [
      "[83.18814104 27.03208773 27.03208773 69.63323162 59.95115346]\n",
      "[81 30 21 76 62]\n"
     ]
    }
   ],
   "source": [
    "# lets see the result\n",
    "print(predicted)\n",
    "print(y_test)"
   ]
  },
  {
   "cell_type": "code",
   "execution_count": 189,
   "id": "d4413f96-1c4d-401b-a206-9cc2858459ba",
   "metadata": {},
   "outputs": [],
   "source": [
    "r2 = r2_score(y_test, predicted) # evaluating my model"
   ]
  },
  {
   "cell_type": "code",
   "execution_count": 190,
   "id": "17830c4f-6b2a-4904-acc9-1e921f816145",
   "metadata": {},
   "outputs": [
    {
     "name": "stdout",
     "output_type": "stream",
     "text": [
      "score =  96.78055545410426\n"
     ]
    }
   ],
   "source": [
    "print(\"score = \",r2*100)"
   ]
  }
 ],
 "metadata": {
  "kernelspec": {
   "display_name": "Python 3 (ipykernel)",
   "language": "python",
   "name": "python3"
  },
  "language_info": {
   "codemirror_mode": {
    "name": "ipython",
    "version": 3
   },
   "file_extension": ".py",
   "mimetype": "text/x-python",
   "name": "python",
   "nbconvert_exporter": "python",
   "pygments_lexer": "ipython3",
   "version": "3.11.5"
  }
 },
 "nbformat": 4,
 "nbformat_minor": 5
}
